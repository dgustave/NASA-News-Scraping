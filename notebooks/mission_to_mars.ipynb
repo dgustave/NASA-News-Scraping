{
 "cells": [
  {
   "cell_type": "code",
   "execution_count": 11,
   "metadata": {},
   "outputs": [
    {
     "ename": "ModuleNotFoundError",
     "evalue": "No module named 'pymongo'",
     "output_type": "error",
     "traceback": [
      "\u001b[1;31m---------------------------------------------------------------------------\u001b[0m",
      "\u001b[1;31mModuleNotFoundError\u001b[0m                       Traceback (most recent call last)",
      "\u001b[1;32m<ipython-input-11-fac46e7ec497>\u001b[0m in \u001b[0;36m<module>\u001b[1;34m\u001b[0m\n\u001b[0;32m      3\u001b[0m \u001b[1;32mimport\u001b[0m \u001b[0mpandas\u001b[0m \u001b[1;32mas\u001b[0m \u001b[0mpd\u001b[0m\u001b[1;33m\u001b[0m\u001b[1;33m\u001b[0m\u001b[0m\n\u001b[0;32m      4\u001b[0m \u001b[1;32mimport\u001b[0m \u001b[0mrequests\u001b[0m\u001b[1;33m\u001b[0m\u001b[1;33m\u001b[0m\u001b[0m\n\u001b[1;32m----> 5\u001b[1;33m \u001b[1;32mimport\u001b[0m \u001b[0mpymongo\u001b[0m\u001b[1;33m\u001b[0m\u001b[1;33m\u001b[0m\u001b[0m\n\u001b[0m\u001b[0;32m      6\u001b[0m \u001b[1;32mfrom\u001b[0m \u001b[0mflask\u001b[0m \u001b[1;32mimport\u001b[0m \u001b[0mFlask\u001b[0m\u001b[1;33m,\u001b[0m \u001b[0mrender_template\u001b[0m\u001b[1;33m,\u001b[0m \u001b[0mredirect\u001b[0m\u001b[1;33m\u001b[0m\u001b[1;33m\u001b[0m\u001b[0m\n\u001b[0;32m      7\u001b[0m \u001b[1;32mfrom\u001b[0m \u001b[0mflask_pymongo\u001b[0m \u001b[1;32mimport\u001b[0m \u001b[0mPyMongo\u001b[0m\u001b[1;33m\u001b[0m\u001b[1;33m\u001b[0m\u001b[0m\n",
      "\u001b[1;31mModuleNotFoundError\u001b[0m: No module named 'pymongo'"
     ]
    }
   ],
   "source": [
    "from selenium import webdriver\n",
    "from bs4 import BeautifulSoup as bs\n",
    "import pandas as pd\n",
    "import requests\n",
    "import pymongo\n",
    "from flask import Flask, render_template, redirect\n",
    "from flask_pymongo import PyMongo"
   ]
  },
  {
   "cell_type": "code",
   "execution_count": 13,
   "metadata": {},
   "outputs": [],
   "source": [
    "Path = \"C:\\SeleniumDrivers\\chromedriver.exe\""
   ]
  },
  {
   "cell_type": "code",
   "execution_count": null,
   "metadata": {},
   "outputs": [],
   "source": [
    "driver = webdriver.Chrome(Path)\n",
    "news = \"https://mars.nasa.gov/news/\"\n",
    "featured = \"https://www.jpl.nasa.gov/spaceimages/?search=&category=Mars\"\n",
    "facts = \"https://space-facts.com/mars/\"\n",
    "hemisphere = \"https://astrogeology.usgs.gov/search/results?q=hemisphere+enhanced&k1=target&v1=Mars\"\n",
    "data = [] \n",
    "img_data = [] "
   ]
  },
  {
   "cell_type": "markdown",
   "metadata": {},
   "source": [
    "This Class was created for making dictionaries for web scrapping. It also allows you to update arguements and asssign them attributes. Great for creating fields for a no sql database :"
   ]
  },
  {
   "cell_type": "code",
   "execution_count": 23,
   "metadata": {},
   "outputs": [
    {
     "name": "stdout",
     "output_type": "stream",
     "text": [
      "p1:{'title': 'grid, sick', 'images': 'lock,lik', 'd': 'b'}\n"
     ]
    }
   ],
   "source": [
    "# Use dynamic attributes for a class using self.__dict__\n",
    "#     object.__dict__:\n",
    "#         A dictionary or other mapping object\n",
    "#         used to store an object's (writable) attributes.\n",
    "# object.__dict__for:\n",
    "# - Set defaults for the classes/object attributes as a dynamic template: \n",
    "class MarsFields(object):\n",
    "    \n",
    "    defaults = {'title': data, 'images': img_data}\n",
    "    \n",
    "    # - Define flexible constructer which could be default and set with attributes: \n",
    "    @classmethod \n",
    "    def set_defaults(cls, **kwargs):\n",
    "        MarsFields.defaults.update(kwargs)\n",
    "    # - Add new attributes to class to affect future object instances:\n",
    "    def __init__(self, *args, **kwargs):\n",
    "        self.__dict__.update(MarsFields.defaults)\n",
    "        \n",
    "        keys = list(MarsFields.defaults.keys())\n",
    "        for k, v in enumerate(args): # copy arguements to dictionary in order. \n",
    "            self.__dict__[keys[k]] = v # Where 'k' is the name of the key and 'v' as value.\n",
    "        self.modify_attributes(**kwargs)\n",
    "    # - Adding attributes to specifies object dynamically after creation:   \n",
    "    def modify_attributes(self, **kwargs):\n",
    "        self.__dict__.update(kwargs)\n",
    "    def __repr__(self):\n",
    "        return str(self.__dict__)\n",
    "def run(): # Run all webscraping variables and print for confirmation: \n",
    "    p1 = MarsFields('grid, sick', 'lock,lik', d = 'b' )\n",
    "    print(f'p1:{p1}')\n",
    "    \n",
    "if __name__ == '__main__':\n",
    "          run()\n",
    "    "
   ]
  },
  {
   "cell_type": "code",
   "execution_count": null,
   "metadata": {},
   "outputs": [],
   "source": []
  }
 ],
 "metadata": {
  "kernelspec": {
   "display_name": "Python 3",
   "language": "python",
   "name": "python3"
  },
  "language_info": {
   "codemirror_mode": {
    "name": "ipython",
    "version": 3
   },
   "file_extension": ".py",
   "mimetype": "text/x-python",
   "name": "python",
   "nbconvert_exporter": "python",
   "pygments_lexer": "ipython3",
   "version": "3.8.3"
  }
 },
 "nbformat": 4,
 "nbformat_minor": 4
}
