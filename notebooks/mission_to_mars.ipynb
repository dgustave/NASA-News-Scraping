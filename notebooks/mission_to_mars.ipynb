{
 "cells": [
  {
   "cell_type": "code",
   "execution_count": 4,
   "metadata": {},
   "outputs": [],
   "source": [
    "from selenium import webdriver                    # Import module \n",
    "from selenium.webdriver.common.keys import Keys   # For keyboard keys \n",
    "from selenium.webdriver.chrome.service import Service # Start and stop browser service\n",
    "from bs4 import BeautifulSoup as bs               # parse this html\n",
    "import time                                       # Waiting function for page to load\n",
    "import pandas as pd\n",
    "import requests\n",
    "import pymongo\n",
    "from flask import Flask, render_template, redirect"
   ]
  },
  {
   "cell_type": "code",
   "execution_count": 5,
   "metadata": {},
   "outputs": [],
   "source": [
    "# Locate Driver in system\n",
    "Path = \"C:\\SeleniumDrivers\\chromedriver.exe\"\n",
    "service = Service(Path)\n",
    "service.start()\n",
    "driver = webdriver.Remote(service.service_url)"
   ]
  },
  {
   "cell_type": "code",
   "execution_count": 6,
   "metadata": {},
   "outputs": [],
   "source": [
    "# Set variables for all URL's.\n",
    "news = \"https://mars.nasa.gov/news/\"\n",
    "featured = \"https://www.jpl.nasa.gov/spaceimages/?search=&category=Mars\"\n",
    "facts = \"https://space-facts.com/mars/\"\n",
    "hemisphere = \"https://astrogeology.usgs.gov/search/results?q=hemisphere+enhanced&k1=target&v1=Mars\""
   ]
  },
  {
   "cell_type": "code",
   "execution_count": 7,
   "metadata": {},
   "outputs": [],
   "source": [
    "# Driver get news URL: \n",
    "driver.get(news);\n",
    "# Allow page time to load before getting attributes: \n",
    "time.sleep(8) "
   ]
  },
  {
   "cell_type": "code",
   "execution_count": 7,
   "metadata": {},
   "outputs": [],
   "source": [
    "# All the information in main container: \n",
    "news_container = soup.find_all('div', id=re.compile(\"site_body\"))"
   ]
  },
  {
   "cell_type": "code",
   "execution_count": 20,
   "metadata": {},
   "outputs": [],
   "source": [
    "# Retrieve the latest news title\n",
    "title_elements = driver.find_elements_by_class_name(\"content_title\")\n",
    "title_htmls = [title_element.get_attribute(\"innerHTML\") for title_element in title_elements]\n",
    "title_html = title_htmls[1]\n",
    "news_soup = bs(title_html, lxml)\n",
    "title = news_soup.get_text()\n",
    "title"
   ]
  },
  {
   "cell_type": "code",
   "execution_count": 12,
   "metadata": {},
   "outputs": [],
   "source": [
    "teaser_element = driver.find_element_by_class_name(\"article_teaser_body\")\n",
    "teaser_html = teaser_element.get_attribute(\"innerHTML\")\n",
    "teaser_html"
   ]
  },
  {
   "cell_type": "code",
   "execution_count": null,
   "metadata": {},
   "outputs": [],
   "source": [
    "# Quit browser go to next URL\n",
    "driver.quit()"
   ]
  },
  {
   "cell_type": "code",
   "execution_count": null,
   "metadata": {},
   "outputs": [],
   "source": [
    "# Visit the url for JPL Featured Space Image [here]\n",
    "driver.get(featured); # Add Urls Here!\n",
    "time.sleep(5) # Let the user actually see something!"
   ]
  },
  {
   "cell_type": "code",
   "execution_count": null,
   "metadata": {},
   "outputs": [],
   "source": [
    "# Navigate the site and find the image url for the current Featured Mars Image and assign the url string to a variable called `featured_image_url`.\n",
    "# Retrieve the latest news title\n",
    "featured_image_url_elements = driver.find_elements_by_class_name(\"content_title\")\n",
    "featured_image_url_htmls = [featured_image_url_element.get_attribute(\"innerHTML\") for featured_image_url_element in featured_image_url_elements]\n",
    "featured_image_url_html = featured_image_url_htmls[1]\n",
    "featured_soup = bs(featured_image_url_html, lxml)"
   ]
  },
  {
   "cell_type": "code",
   "execution_count": null,
   "metadata": {},
   "outputs": [],
   "source": [
    "# Make sure to find the image url to the full size `.jpg` image."
   ]
  },
  {
   "cell_type": "code",
   "execution_count": null,
   "metadata": {},
   "outputs": [],
   "source": [
    "# Make sure to save a complete url string for this image.\n",
    "featured_image_url = featured_soup.get_text()\n",
    "featured_image_url"
   ]
  },
  {
   "cell_type": "code",
   "execution_count": null,
   "metadata": {},
   "outputs": [],
   "source": [
    "driver.quit()"
   ]
  },
  {
   "cell_type": "code",
   "execution_count": null,
   "metadata": {},
   "outputs": [],
   "source": [
    "# Visit the Mars Facts webpage and use Pandas to scrape the table containing facts about the planet including Diameter, Mass, etc.\n",
    "driver.get(facts); # Add Urls Here!\n",
    "time.sleep(5) # Let the user actually see something!"
   ]
  },
  {
   "cell_type": "code",
   "execution_count": null,
   "metadata": {},
   "outputs": [],
   "source": [
    "#  Use Pandas to convert the data to a HTML table string."
   ]
  },
  {
   "cell_type": "code",
   "execution_count": null,
   "metadata": {},
   "outputs": [],
   "source": [
    "driver.quit()"
   ]
  },
  {
   "cell_type": "code",
   "execution_count": null,
   "metadata": {},
   "outputs": [],
   "source": [
    "# Visit the USGS Astrogeology site\n",
    "driver.get(hemisphere); # Add Urls Here!\n",
    "time.sleep(5) # Let the user actually see something!"
   ]
  },
  {
   "cell_type": "code",
   "execution_count": null,
   "metadata": {},
   "outputs": [],
   "source": [
    "# You will need to click each of the links to the hemispheres in order to find the image url to the full resolution image."
   ]
  },
  {
   "cell_type": "code",
   "execution_count": null,
   "metadata": {},
   "outputs": [],
   "source": [
    "# Save both the image url string for the full resolution hemisphere image, and the Hemisphere title containing the hemisphere name. Use a Python dictionary to store the data using the keys `img_url` and `title`."
   ]
  },
  {
   "cell_type": "code",
   "execution_count": null,
   "metadata": {},
   "outputs": [],
   "source": [
    "# Append the dictionary with the image url string and the hemisphere title to a list. This list will contain one dictionary for each hemisphere.\n",
    "hemisphere_image_urls = []"
   ]
  },
  {
   "cell_type": "code",
   "execution_count": null,
   "metadata": {},
   "outputs": [],
   "source": [
    "driver.quit()"
   ]
  },
  {
   "cell_type": "markdown",
   "metadata": {},
   "source": [
    "This Class was created for making dictionaries for web scrapping. It also allows you to update arguements and asssign them attributes. Great for creating fields for a no sql database :"
   ]
  },
  {
   "cell_type": "code",
   "execution_count": null,
   "metadata": {},
   "outputs": [],
   "source": [
    "# Use dynamic attributes for a class using self.__dict__\n",
    "#     object.__dict__:\n",
    "#         A dictionary or other mapping object\n",
    "#         used to store an object's (writable) attributes.\n",
    "# object.__dict__for:\n",
    "# - Set defaults for the classes/object attributes as a dynamic template: \n",
    "class MarsFields(object):\n",
    "    \n",
    "    defaults = {'title': data, 'images': img_data}\n",
    "    \n",
    "    # - Define flexible constructer which could be default and set with attributes: \n",
    "    @classmethod \n",
    "    def set_defaults(cls, **kwargs):\n",
    "        MarsFields.defaults.update(kwargs)\n",
    "    # - Add new attributes to class to affect future object instances:\n",
    "    def __init__(self, *args, **kwargs):\n",
    "        self.__dict__.update(MarsFields.defaults)\n",
    "        \n",
    "        keys = list(MarsFields.defaults.keys())\n",
    "        for k, v in enumerate(args): # copy arguements to dictionary in order. \n",
    "            self.__dict__[keys[k]] = v # Where 'k' is the name of the key and 'v' as value.\n",
    "        self.modify_attributes(**kwargs)\n",
    "    # - Adding attributes to specifies object dynamically after creation:   \n",
    "    def modify_attributes(self, **kwargs):\n",
    "        self.__dict__.update(kwargs)\n",
    "    def __repr__(self):\n",
    "        return str(self.__dict__)\n",
    "def run(): # Run all webscraping variables and print for confirmation: \n",
    "    p1 = MarsFields('grid, sick', 'lock,lik', d = 'b' )\n",
    "    print(f'p1:{p1}')\n",
    "    \n",
    "if __name__ == '__main__':\n",
    "          run()\n",
    "    "
   ]
  },
  {
   "cell_type": "code",
   "execution_count": null,
   "metadata": {},
   "outputs": [],
   "source": [
    "my_big_dict = {\"title\": title,\n",
    "              \"summary\": teaser_html,\n",
    "              \"another item\"}"
   ]
  }
 ],
 "metadata": {
  "kernelspec": {
   "display_name": "Python 3",
   "language": "python",
   "name": "python3"
  },
  "language_info": {
   "codemirror_mode": {
    "name": "ipython",
    "version": 3
   },
   "file_extension": ".py",
   "mimetype": "text/x-python",
   "name": "python",
   "nbconvert_exporter": "python",
   "pygments_lexer": "ipython3",
   "version": "3.8.3"
  }
 },
 "nbformat": 4,
 "nbformat_minor": 4
}
