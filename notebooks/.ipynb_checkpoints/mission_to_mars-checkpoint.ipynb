{
 "cells": [
  {
   "cell_type": "code",
   "execution_count": 1,
   "metadata": {},
   "outputs": [],
   "source": [
    "from selenium import webdriver                    # Import module \n",
    "from selenium.webdriver.common.keys import Keys   # For keyboard keys \n",
    "from selenium.webdriver.chrome.service import Service # Start and stop browser service\n",
    "from bs4 import BeautifulSoup as bs               # parse this html\n",
    "import urllib3                                    # Read image files. \n",
    "import time     # Waiting function for page to load\n",
    "import pandas as pd\n",
    "import requests\n",
    "import pymongo\n",
    "from flask import Flask, render_template, redirect"
   ]
  },
  {
   "cell_type": "code",
   "execution_count": null,
   "metadata": {},
   "outputs": [],
   "source": [
    "# Keep driver session open by saving cookies temporarily and load when needed:\n",
    "def save_cookie(driver, path):\n",
    "    with open(path, 'wb') as filehandler:\n",
    "        pickle.dump(driver.get_cookies(), filehandler)\n",
    "\n",
    "def load_cookie(driver, path):\n",
    "     with open(path, 'rb') as cookiesfile:\n",
    "         cookies = pickle.load(cookiesfile)\n",
    "         for cookie in cookies:\n",
    "             driver.add_cookie(cookie)"
   ]
  },
  {
   "cell_type": "code",
   "execution_count": null,
   "metadata": {},
   "outputs": [],
   "source": [
    "# Locate Driver in system\n",
    "Path = \"C:\\SeleniumDrivers\\chromedriver.exe\"\n",
    "service = Service(Path)\n",
    "service.start()\n",
    "driver = webdriver.Remote(service.service_url)"
   ]
  },
  {
   "cell_type": "code",
   "execution_count": 5,
   "metadata": {},
   "outputs": [],
   "source": [
    "# Set variables for all URL's.\n",
    "news = \"https://mars.nasa.gov/news/\"\n",
    "featured = \"https://www.jpl.nasa.gov/spaceimages/?search=&category=Mars\"\n",
    "facts = \"https://space-facts.com/mars/\"\n",
    "hemisphere = \"https://astrogeology.usgs.gov/search/results?q=hemisphere+enhanced&k1=target&v1=Mars\""
   ]
  },
  {
   "cell_type": "code",
   "execution_count": null,
   "metadata": {},
   "outputs": [],
   "source": [
    "# Driver get news URL: \n",
    "driver.get(news);\n",
    "# Tired \n",
    "save_cookie(driver, '/tmp/cookie/news')\n",
    "# Allow page time to load before getting attributes: \n",
    "time.sleep(8) "
   ]
  },
  {
   "cell_type": "code",
   "execution_count": null,
   "metadata": {},
   "outputs": [],
   "source": [
    "# All the information in main container: \n",
    "news_container = driver.find_elements_by_id(\"news\")"
   ]
  },
  {
   "cell_type": "code",
   "execution_count": null,
   "metadata": {},
   "outputs": [],
   "source": [
    "# Retrieve the latest news title\n",
    "title_elements = driver.find_elements_by_class_name(\"content_title\")\n",
    "title_htmls = [title_element.get_attribute(\"innerHTML\") for title_element in title_elements]\n",
    "title_html = title_htmls[1]\n",
    "news_soup = bs(title_html, 'lxml')\n",
    "title = news_soup.get_text()\n",
    "title"
   ]
  },
  {
   "cell_type": "code",
   "execution_count": null,
   "metadata": {},
   "outputs": [],
   "source": [
    "teaser_element = driver.find_element_by_class_name(\"article_teaser_body\")\n",
    "teaser_html = teaser_element.get_attribute(\"innerHTML\")\n",
    "teaser_html"
   ]
  },
  {
   "cell_type": "code",
   "execution_count": null,
   "metadata": {},
   "outputs": [],
   "source": [
    "# Quit browser go to next URL\n",
    "driver.quit()"
   ]
  },
  {
   "cell_type": "code",
   "execution_count": null,
   "metadata": {},
   "outputs": [],
   "source": [
    "# Locate Driver in system\n",
    "Path = \"C:\\SeleniumDrivers\\chromedriver.exe\"\n",
    "service = Service(Path)\n",
    "service.start()\n",
    "driver = webdriver.Remote(service.service_url)"
   ]
  },
  {
   "cell_type": "code",
   "execution_count": null,
   "metadata": {},
   "outputs": [],
   "source": [
    "# Visit the url for JPL Featured Space Image [here]\n",
    "driver.get(featured); # Add Urls Here!\n",
    "time.sleep(5) # Let the user actually see something!"
   ]
  },
  {
   "cell_type": "code",
   "execution_count": null,
   "metadata": {},
   "outputs": [],
   "source": [
    "# Navigate the site and find the image url for the current Featured Mars Image and assign the url string to a variable called `featured_image_url`.\n",
    "# Access featured image hover image with link: \n",
    "featured_page_url_element = driver.find_element_by_xpath(\"//*[@id='full_image']\")\n",
    "featured_page_url_element"
   ]
  },
  {
   "cell_type": "code",
   "execution_count": null,
   "metadata": {},
   "outputs": [],
   "source": [
    "# interact with the element\n",
    "featured_page_url_element.click()"
   ]
  },
  {
   "cell_type": "code",
   "execution_count": null,
   "metadata": {},
   "outputs": [],
   "source": [
    "# Navigate to via href link by id link as partial text:\n",
    "featured_link_element = driver.find_element_by_link_text('more info')\n",
    "featured_link_element"
   ]
  },
  {
   "cell_type": "code",
   "execution_count": null,
   "metadata": {},
   "outputs": [],
   "source": [
    "# interact with the element\n",
    "featured_link_element.click()"
   ]
  },
  {
   "cell_type": "code",
   "execution_count": null,
   "metadata": {},
   "outputs": [],
   "source": [
    "# After navigating to certain page pull the featured image link: \n",
    "featured_image_elements = driver.find_elements_by_class_name('main_image')\n",
    "featured_image_elements"
   ]
  },
  {
   "cell_type": "code",
   "execution_count": null,
   "metadata": {},
   "outputs": [],
   "source": [
    "featured_image_links = [featured_image_element.get_attribute(\"src\") for featured_image_element in featured_image_elements]"
   ]
  },
  {
   "cell_type": "code",
   "execution_count": null,
   "metadata": {},
   "outputs": [],
   "source": [
    "featured_image_link = featured_image_links[0]\n",
    "featured_image_link"
   ]
  },
  {
   "cell_type": "code",
   "execution_count": null,
   "metadata": {},
   "outputs": [],
   "source": [
    "driver.quit()"
   ]
  },
  {
   "cell_type": "code",
   "execution_count": 6,
   "metadata": {},
   "outputs": [],
   "source": [
    "# Visit the Mars Facts webpage and use Pandas to scrape the table containing facts about the planet including Diameter, Mass, etc.\n",
    "driver.get(facts); # Add Urls Here!\n",
    "time.sleep(5) # Let the user actually see something!"
   ]
  },
  {
   "cell_type": "code",
   "execution_count": 10,
   "metadata": {},
   "outputs": [],
   "source": [
    "#  Use Pandas to convert the data to a HTML table string.\n",
    "tables = pd.read_html(facts)\n",
    "tables[0]"
   ]
  },
  {
   "cell_type": "code",
   "execution_count": 11,
   "metadata": {},
   "outputs": [],
   "source": [
    "facts_df = tables[0]\n",
    "facts_df.columns = [\"Description\", \"Data\"]\n",
    "facts_df"
   ]
  },
  {
   "cell_type": "code",
   "execution_count": 13,
   "metadata": {},
   "outputs": [
    {
     "data": {
      "text/plain": [
       "'<table border=\"1\" class=\"dataframe\">\\n  <thead>\\n    <tr style=\"text-align: right;\">\\n      <th></th>\\n      <th>Description</th>\\n      <th>Data</th>\\n    </tr>\\n  </thead>\\n  <tbody>\\n    <tr>\\n      <th>0</th>\\n      <td>Equatorial Diameter:</td>\\n      <td>6,792 km</td>\\n    </tr>\\n    <tr>\\n      <th>1</th>\\n      <td>Polar Diameter:</td>\\n      <td>6,752 km</td>\\n    </tr>\\n    <tr>\\n      <th>2</th>\\n      <td>Mass:</td>\\n      <td>6.39 × 10^23 kg (0.11 Earths)</td>\\n    </tr>\\n    <tr>\\n      <th>3</th>\\n      <td>Moons:</td>\\n      <td>2 (Phobos &amp; Deimos)</td>\\n    </tr>\\n    <tr>\\n      <th>4</th>\\n      <td>Orbit Distance:</td>\\n      <td>227,943,824 km (1.38 AU)</td>\\n    </tr>\\n    <tr>\\n      <th>5</th>\\n      <td>Orbit Period:</td>\\n      <td>687 days (1.9 years)</td>\\n    </tr>\\n    <tr>\\n      <th>6</th>\\n      <td>Surface Temperature:</td>\\n      <td>-87 to -5 °C</td>\\n    </tr>\\n    <tr>\\n      <th>7</th>\\n      <td>First Record:</td>\\n      <td>2nd millennium BC</td>\\n    </tr>\\n    <tr>\\n      <th>8</th>\\n      <td>Recorded By:</td>\\n      <td>Egyptian astronomers</td>\\n    </tr>\\n  </tbody>\\n</table>'"
      ]
     },
     "execution_count": 13,
     "metadata": {},
     "output_type": "execute_result"
    }
   ],
   "source": [
    "fact_html = facts_df.to_html()\n",
    "fact_html"
   ]
  },
  {
   "cell_type": "code",
   "execution_count": 9,
   "metadata": {},
   "outputs": [],
   "source": [
    "driver.quit()"
   ]
  },
  {
   "cell_type": "code",
   "execution_count": null,
   "metadata": {},
   "outputs": [],
   "source": [
    "# Visit the USGS Astrogeology site\n",
    "driver.get(hemisphere); # Add Urls Here!\n",
    "time.sleep(5) # Let the user actually see something!"
   ]
  },
  {
   "cell_type": "code",
   "execution_count": null,
   "metadata": {},
   "outputs": [],
   "source": [
    "# You will need to click each of the links to the hemispheres in order to find the image url to the full resolution image."
   ]
  },
  {
   "cell_type": "code",
   "execution_count": null,
   "metadata": {},
   "outputs": [],
   "source": [
    "# Save both the image url string for the full resolution hemisphere image, and the Hemisphere title containing the hemisphere name. Use a Python dictionary to store the data using the keys `img_url` and `title`."
   ]
  },
  {
   "cell_type": "code",
   "execution_count": null,
   "metadata": {},
   "outputs": [],
   "source": [
    "# Append the dictionary with the image url string and the hemisphere title to a list. This list will contain one dictionary for each hemisphere.\n",
    "hemisphere_image_urls = []"
   ]
  },
  {
   "cell_type": "code",
   "execution_count": null,
   "metadata": {},
   "outputs": [],
   "source": [
    "driver.quit()"
   ]
  },
  {
   "cell_type": "markdown",
   "metadata": {},
   "source": [
    "This Class was created for making dictionaries for web scrapping. It also allows you to update arguements and asssign them attributes. Great for creating fields for a no sql database :"
   ]
  },
  {
   "cell_type": "code",
   "execution_count": null,
   "metadata": {},
   "outputs": [],
   "source": [
    "# Use dynamic attributes for a class using self.__dict__\n",
    "#     object.__dict__:\n",
    "#         A dictionary or other mapping object\n",
    "#         used to store an object's (writable) attributes.\n",
    "# object.__dict__for:\n",
    "# - Set defaults for the classes/object attributes as a dynamic template: \n",
    "class MarsFields(object):\n",
    "    \n",
    "    defaults = {'title': data, 'images': img_data}\n",
    "    \n",
    "    # - Define flexible constructer which could be default and set with attributes: \n",
    "    @classmethod \n",
    "    def set_defaults(cls, **kwargs):\n",
    "        MarsFields.defaults.update(kwargs)\n",
    "    # - Add new attributes to class to affect future object instances:\n",
    "    def __init__(self, *args, **kwargs):\n",
    "        self.__dict__.update(MarsFields.defaults)\n",
    "        \n",
    "        keys = list(MarsFields.defaults.keys())\n",
    "        for k, v in enumerate(args): # copy arguements to dictionary in order. \n",
    "            self.__dict__[keys[k]] = v # Where 'k' is the name of the key and 'v' as value.\n",
    "        self.modify_attributes(**kwargs)\n",
    "    # - Adding attributes to specifies object dynamically after creation:   \n",
    "    def modify_attributes(self, **kwargs):\n",
    "        self.__dict__.update(kwargs)\n",
    "    def __repr__(self):\n",
    "        return str(self.__dict__)\n",
    "def run(): # Run all webscraping variables and print for confirmation: \n",
    "    p1 = MarsFields('grid, sick', 'lock,lik', d = 'b' )\n",
    "    print(f'p1:{p1}')\n",
    "    \n",
    "if __name__ == '__main__':\n",
    "          run()\n",
    "    "
   ]
  },
  {
   "cell_type": "code",
   "execution_count": null,
   "metadata": {},
   "outputs": [],
   "source": [
    "my_big_dict = {\"title\": title,\n",
    "              \"summary\": teaser_html,\n",
    "              \"another item\"}"
   ]
  }
 ],
 "metadata": {
  "kernelspec": {
   "display_name": "Python 3",
   "language": "python",
   "name": "python3"
  },
  "language_info": {
   "codemirror_mode": {
    "name": "ipython",
    "version": 3
   },
   "file_extension": ".py",
   "mimetype": "text/x-python",
   "name": "python",
   "nbconvert_exporter": "python",
   "pygments_lexer": "ipython3",
   "version": "3.8.3"
  }
 },
 "nbformat": 4,
 "nbformat_minor": 4
}
