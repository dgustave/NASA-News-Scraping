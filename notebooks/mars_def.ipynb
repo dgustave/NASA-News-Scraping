{
 "cells": [
  {
   "cell_type": "code",
   "execution_count": 1,
   "metadata": {},
   "outputs": [],
   "source": [
    "from selenium import webdriver                    # Import module \n",
    "from selenium.webdriver.common.keys import Keys   # For keyboard keys \n",
    "from selenium.webdriver.chrome.service import Service # Start and stop browser service\n",
    "from selenium.webdriver.support.ui import WebDriverWait \n",
    "from selenium.webdriver.support import expected_conditions as EC \n",
    "from selenium.common.exceptions import TimeoutException\n",
    "from bs4 import BeautifulSoup as bs               # parse this html\n",
    "import time     # Waiting function for page to load\n",
    "import pandas as pd"
   ]
  },
  {
   "cell_type": "code",
   "execution_count": 2,
   "metadata": {},
   "outputs": [],
   "source": [
    "# Set variables for all URL's.\n",
    "news = \"https://mars.nasa.gov/news/\"\n",
    "featured = \"https://www.jpl.nasa.gov/spaceimages/?search=&category=Mars\"\n",
    "facts = \"https://space-facts.com/mars/\"\n",
    "hemisphere = \"https://astrogeology.usgs.gov/search/results?q=hemisphere+enhanced&k1=target&v1=Mars\""
   ]
  },
  {
   "cell_type": "code",
   "execution_count": 22,
   "metadata": {},
   "outputs": [],
   "source": [
    "mars_dict = {}\n",
    "def init_driver():\n",
    "    # Locate Driver in system\n",
    "    Path = \"C:\\SeleniumDrivers\\chromedriver.exe\"\n",
    "    service = Service(Path)\n",
    "    service.start()\n",
    "    driver = webdriver.Remote(service.service_url)\n",
    "    return driver\n",
    "\n",
    "def scrape(): \n",
    "    def scrape_news(): \n",
    "        driver = init_driver()\n",
    "        # Retrieve the latest news title\n",
    "        driver.get(news)\n",
    "        title_elements = driver.find_elements_by_class_name(\"content_title\")\n",
    "        title_htmls = [title_element.get_attribute(\"innerHTML\") for title_element in title_elements]\n",
    "        title_html = title_htmls[1]\n",
    "        news_soup = bs(title_html, 'lxml')\n",
    "        title = news_soup.get_text()\n",
    "        time.sleep(5)\n",
    "        \n",
    "        teaser_element = driver.find_element_by_class_name(\"article_teaser_body\")\n",
    "        teaser_html = teaser_element.get_attribute(\"innerHTML\")\n",
    "        mars_dict['title'] = title\n",
    "        mars_dict['summary'] = teaser_html \n",
    "        driver.quit()\n",
    "    \n",
    "    def scrape_featured():\n",
    "        driver = init_driver()\n",
    "        driver.get(featured);\n",
    "        featured_page_url_element = driver.find_element_by_xpath(\"//*[@id='full_image']\")\n",
    "        featured_page_url_element.click()\n",
    "        time.sleep(5)\n",
    "        featured_link_element = driver.find_element_by_link_text('more info')\n",
    "        featured_link_element.click()\n",
    "        time.sleep(5)\n",
    "        featured_image_elements = driver.find_elements_by_class_name('main_image')\n",
    "        featured_image_links = [featured_image_element.get_attribute(\"src\") for featured_image_element in featured_image_elements]\n",
    "        featured_image_link = featured_image_links[0]\n",
    "        mars_dict['featured image'] = featured_image_link\n",
    "        driver.quit()\n",
    "        \n",
    "    def scrape_table():\n",
    "        tables = pd.read_html(facts)\n",
    "        facts_df = tables[0]\n",
    "        facts_df.columns = [\"Mars Attributes\", \"Data\"]\n",
    "        fact_html = facts_df.to_html()\n",
    "        mars_dict['mars fact table'] = str(fact_html)\n",
    "    \n",
    "    def scrape_hemisphere():\n",
    "        hemi_dict = {} \n",
    "        driver = init_driver()\n",
    "        driver.get(hemisphere); # Add Urls Here!\n",
    "        hemisphere_elements = driver.find_elements_by_tag_name('h3')\n",
    "        hemisphere_elements[0].click()\n",
    "        hemi_links = driver.find_elements_by_class_name('wide-image')\n",
    "        cerb_links = [cerb_img.get_attribute(\"src\") for cerb_img in hemi_links]\n",
    "        cerb_link = cerb_links[0]\n",
    "        driver.back()\n",
    "        driver.refresh() \n",
    "        time.sleep(2)\n",
    "        \n",
    "        hemisphere_elements = driver.find_elements_by_tag_name('h3')\n",
    "        hemisphere_elements[1].click()\n",
    "        hemi2_links = driver.find_elements_by_class_name('wide-image')\n",
    "        schi_links = [schi_img.get_attribute(\"src\") for schi_img in hemi2_links]\n",
    "        schi_link = schi_links[0]\n",
    "        driver.back()\n",
    "        driver.refresh()\n",
    "        time.sleep(2)\n",
    "        \n",
    "        hemisphere_elements = driver.find_elements_by_tag_name('h3')\n",
    "        hemisphere_elements[2].click()\n",
    "        hemi3_links = driver.find_elements_by_class_name('wide-image')\n",
    "        syrt_links = [schi_img.get_attribute(\"src\") for schi_img in hemi3_links]\n",
    "        syrt_link = syrt_links[0]\n",
    "        driver.back()\n",
    "        driver.refresh()\n",
    "        time.sleep(2)\n",
    "        \n",
    "        hemisphere_elements = driver.find_elements_by_tag_name('h3')\n",
    "        hemisphere_elements[3].click()\n",
    "        hemi4_links = driver.find_elements_by_class_name('wide-image')\n",
    "        vall_links = [schi_img.get_attribute(\"src\") for schi_img in hemi4_links]\n",
    "        vall_link = vall_links[0]\n",
    "        driver.back()\n",
    "        driver.refresh() \n",
    "        time.sleep(2)\n",
    "        \n",
    "        hemisphere_elements = driver.find_elements_by_tag_name('h3')\n",
    "        hemisphere_element_htmls = [hemisphere_element.get_attribute(\"innerHTML\") for hemisphere_element in hemisphere_elements]\n",
    "        hemi_image = [cerb_link, schi_link, syrt_link,  vall_link]\n",
    "        hemi_dict['title'] = hemisphere_element_htmls\n",
    "        hemi_dict['img_url'] = hemi_image  \n",
    "        hemi_list = [hemi_dict]\n",
    "        mars_dict['hemisphere images'] = hemi_list\n",
    "        \n",
    "        driver.quit()\n",
    "        \n",
    "    def my_big_dict():  \n",
    "        scrape_news()\n",
    "        scrape_featured() \n",
    "        scrape_table()\n",
    "        scrape_hemisphere()\n",
    "        return mars_dict\n",
    "              \n",
    "\n",
    "    return my_big_dict()\n",
    "        \n",
    "        \n",
    "\n"
   ]
  },
  {
   "cell_type": "code",
   "execution_count": 23,
   "metadata": {},
   "outputs": [],
   "source": [
    "scrape = scrape()"
   ]
  },
  {
   "cell_type": "code",
   "execution_count": 24,
   "metadata": {},
   "outputs": [
    {
     "data": {
      "text/plain": [
       "{'title': '\\nNASA to Hold Mars 2020 Perseverance Rover Launch Briefing\\n\\n',\n",
       " 'summary': 'In honor of Hispanic Heritage Month, Christina Hernandez, an instrument engineer on the Mars 2020 mission, talks about her childhood and journey to NASA.',\n",
       " 'featured image': 'https://www.jpl.nasa.gov/spaceimages/images/largesize/PIA17794_hires.jpg',\n",
       " 'mars fact table': '<table border=\"1\" class=\"dataframe\">\\n  <thead>\\n    <tr style=\"text-align: right;\">\\n      <th></th>\\n      <th>Mars Attributes</th>\\n      <th>Data</th>\\n    </tr>\\n  </thead>\\n  <tbody>\\n    <tr>\\n      <th>0</th>\\n      <td>Equatorial Diameter:</td>\\n      <td>6,792 km</td>\\n    </tr>\\n    <tr>\\n      <th>1</th>\\n      <td>Polar Diameter:</td>\\n      <td>6,752 km</td>\\n    </tr>\\n    <tr>\\n      <th>2</th>\\n      <td>Mass:</td>\\n      <td>6.39 × 10^23 kg (0.11 Earths)</td>\\n    </tr>\\n    <tr>\\n      <th>3</th>\\n      <td>Moons:</td>\\n      <td>2 (Phobos &amp; Deimos)</td>\\n    </tr>\\n    <tr>\\n      <th>4</th>\\n      <td>Orbit Distance:</td>\\n      <td>227,943,824 km (1.38 AU)</td>\\n    </tr>\\n    <tr>\\n      <th>5</th>\\n      <td>Orbit Period:</td>\\n      <td>687 days (1.9 years)</td>\\n    </tr>\\n    <tr>\\n      <th>6</th>\\n      <td>Surface Temperature:</td>\\n      <td>-87 to -5 °C</td>\\n    </tr>\\n    <tr>\\n      <th>7</th>\\n      <td>First Record:</td>\\n      <td>2nd millennium BC</td>\\n    </tr>\\n    <tr>\\n      <th>8</th>\\n      <td>Recorded By:</td>\\n      <td>Egyptian astronomers</td>\\n    </tr>\\n  </tbody>\\n</table>',\n",
       " 'hemisphere images': [{'title': ['Cerberus Hemisphere Enhanced',\n",
       "    'Schiaparelli Hemisphere Enhanced',\n",
       "    'Syrtis Major Hemisphere Enhanced',\n",
       "    'Valles Marineris Hemisphere Enhanced'],\n",
       "   'img_url': ['https://astrogeology.usgs.gov/cache/images/f5e372a36edfa389625da6d0cc25d905_cerberus_enhanced.tif_full.jpg',\n",
       "    'https://astrogeology.usgs.gov/cache/images/3778f7b43bbbc89d6e3cfabb3613ba93_schiaparelli_enhanced.tif_full.jpg',\n",
       "    'https://astrogeology.usgs.gov/cache/images/555e6403a6ddd7ba16ddb0e471cadcf7_syrtis_major_enhanced.tif_full.jpg',\n",
       "    'https://astrogeology.usgs.gov/cache/images/b3c7c6c9138f57b4756be9b9c43e3a48_valles_marineris_enhanced.tif_full.jpg']}]}"
      ]
     },
     "execution_count": 24,
     "metadata": {},
     "output_type": "execute_result"
    }
   ],
   "source": [
    "mars_dict"
   ]
  },
  {
   "cell_type": "code",
   "execution_count": 8,
   "metadata": {},
   "outputs": [],
   "source": []
  },
  {
   "cell_type": "code",
   "execution_count": null,
   "metadata": {},
   "outputs": [],
   "source": []
  }
 ],
 "metadata": {
  "kernelspec": {
   "display_name": "Python 3",
   "language": "python",
   "name": "python3"
  },
  "language_info": {
   "codemirror_mode": {
    "name": "ipython",
    "version": 3
   },
   "file_extension": ".py",
   "mimetype": "text/x-python",
   "name": "python",
   "nbconvert_exporter": "python",
   "pygments_lexer": "ipython3",
   "version": "3.8.3"
  }
 },
 "nbformat": 4,
 "nbformat_minor": 4
}
